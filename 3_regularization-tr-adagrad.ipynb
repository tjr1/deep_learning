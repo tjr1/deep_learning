{
 "cells": [
  {
   "cell_type": "markdown",
   "metadata": {
    "colab_type": "text",
    "id": "kR-4eNdK6lYS"
   },
   "source": [
    "Deep Learning\n",
    "=============\n",
    "\n",
    "Assignment 3\n",
    "------------\n",
    "\n",
    "Previously in `2_fullyconnected.ipynb`, you trained a logistic regression and a neural network model.\n",
    "\n",
    "The goal of this assignment is to explore regularization techniques."
   ]
  },
  {
   "cell_type": "code",
   "execution_count": 1,
   "metadata": {
    "cellView": "both",
    "colab": {
     "autoexec": {
      "startup": false,
      "wait_interval": 0
     }
    },
    "colab_type": "code",
    "id": "JLpLa8Jt7Vu4"
   },
   "outputs": [],
   "source": [
    "# These are all the modules we'll be using later. Make sure you can import them\n",
    "# before proceeding further.\n",
    "from __future__ import print_function\n",
    "import numpy as np\n",
    "import tensorflow as tf\n",
    "from six.moves import cPickle as pickle"
   ]
  },
  {
   "cell_type": "markdown",
   "metadata": {
    "colab_type": "text",
    "id": "1HrCK6e17WzV"
   },
   "source": [
    "First reload the data we generated in `1_notmnist.ipynb`."
   ]
  },
  {
   "cell_type": "markdown",
   "metadata": {
    "cellView": "both",
    "colab": {
     "autoexec": {
      "startup": false,
      "wait_interval": 0
     },
     "output_extras": [
      {
       "item_id": 1
      }
     ]
    },
    "colab_type": "code",
    "executionInfo": {
     "elapsed": 11777,
     "status": "ok",
     "timestamp": 1449849322348,
     "user": {
      "color": "",
      "displayName": "",
      "isAnonymous": false,
      "isMe": true,
      "permissionId": "",
      "photoUrl": "",
      "sessionId": "0",
      "userId": ""
     },
     "user_tz": 480
    },
    "id": "y3-cj1bpmuxc",
    "outputId": "e03576f1-ebbe-4838-c388-f1777bcc9873"
   },
   "source": [
    "# uncleaned train, valid and test sets\n",
    "pickle_file = 'notMNIST.pickle'\n",
    "\n",
    "with open(pickle_file, 'rb') as f:\n",
    "  save = pickle.load(f)\n",
    "  train_dataset = save['train_dataset']\n",
    "  train_labels = save['train_labels']\n",
    "  valid_dataset = save['valid_dataset']\n",
    "  valid_labels = save['valid_labels']\n",
    "  test_dataset = save['test_dataset']\n",
    "  test_labels = save['test_labels']\n",
    "  del save  # hint to help gc free up memory\n",
    "  print('Training set', train_dataset.shape, train_labels.shape)\n",
    "  print('Validation set', valid_dataset.shape, valid_labels.shape)\n",
    "  print('Test set', test_dataset.shape, test_labels.shape)"
   ]
  },
  {
   "cell_type": "code",
   "execution_count": 2,
   "metadata": {},
   "outputs": [
    {
     "name": "stdout",
     "output_type": "stream",
     "text": [
      "Training set (145051, 28, 28) (145051,)\n",
      "Validation set (7338, 28, 28) (7338,)\n",
      "Test set (6722, 28, 28) (6722,)\n"
     ]
    }
   ],
   "source": [
    "# cleaned train, valid and test sets\n",
    "pickle_file = 'notMNIST_c.pickle'\n",
    "\n",
    "with open(pickle_file, 'rb') as f:\n",
    "  save = pickle.load(f)\n",
    "  train_dataset = save['train_dataset_c']\n",
    "  train_labels = save['train_labels_c']\n",
    "  valid_dataset = save['valid_dataset_c']\n",
    "  valid_labels = save['valid_labels_c']\n",
    "  test_dataset = save['test_dataset_c']\n",
    "  test_labels = save['test_labels_c']\n",
    "  del save  # hint to help gc free up memory\n",
    "  print('Training set', train_dataset.shape, train_labels.shape)\n",
    "  print('Validation set', valid_dataset.shape, valid_labels.shape)\n",
    "  print('Test set', test_dataset.shape, test_labels.shape)"
   ]
  },
  {
   "cell_type": "markdown",
   "metadata": {
    "cellView": "both",
    "colab": {
     "autoexec": {
      "startup": false,
      "wait_interval": 0
     },
     "output_extras": [
      {
       "item_id": 1
      }
     ]
    },
    "colab_type": "code",
    "executionInfo": {
     "elapsed": 11777,
     "status": "ok",
     "timestamp": 1449849322348,
     "user": {
      "color": "",
      "displayName": "",
      "isAnonymous": false,
      "isMe": true,
      "permissionId": "",
      "photoUrl": "",
      "sessionId": "0",
      "userId": ""
     },
     "user_tz": 480
    },
    "id": "y3-cj1bpmuxc",
    "outputId": "e03576f1-ebbe-4838-c388-f1777bcc9873"
   },
   "source": [
    "# cleaned training, unclean valid and test\n",
    "pickle_file1 = 'notMNIST_c.pickle'\n",
    "\n",
    "with open(pickle_file1, 'rb') as f1:\n",
    "  save = pickle.load(f1)\n",
    "  train_dataset = save['train_dataset_c']\n",
    "  train_labels = save['train_labels_c']\n",
    "  del save\n",
    "  \n",
    "\n",
    "pickle_file2 = 'notMNIST.pickle'\n",
    "\n",
    "with open(pickle_file2, 'rb') as f2:\n",
    "  save = pickle.load(f2)\n",
    "  valid_dataset = save['valid_dataset']\n",
    "  valid_labels = save['valid_labels']\n",
    "  test_dataset = save['test_dataset']\n",
    "  test_labels = save['test_labels']\n",
    "  del save  # hint to help gc free up memory\n",
    "    \n",
    "print('Training set', train_dataset.shape, train_labels.shape)\n",
    "print('Validation set', valid_dataset.shape, valid_labels.shape)\n",
    "print('Test set', test_dataset.shape, test_labels.shape)"
   ]
  },
  {
   "cell_type": "raw",
   "metadata": {},
   "source": []
  },
  {
   "cell_type": "markdown",
   "metadata": {
    "colab_type": "text",
    "id": "L7aHrm6nGDMB"
   },
   "source": [
    "Reformat into a shape that's more adapted to the models we're going to train:\n",
    "- data as a flat matrix,\n",
    "- labels as float 1-hot encodings."
   ]
  },
  {
   "cell_type": "code",
   "execution_count": 3,
   "metadata": {
    "cellView": "both",
    "colab": {
     "autoexec": {
      "startup": false,
      "wait_interval": 0
     },
     "output_extras": [
      {
       "item_id": 1
      }
     ]
    },
    "colab_type": "code",
    "executionInfo": {
     "elapsed": 11728,
     "status": "ok",
     "timestamp": 1449849322356,
     "user": {
      "color": "",
      "displayName": "",
      "isAnonymous": false,
      "isMe": true,
      "permissionId": "",
      "photoUrl": "",
      "sessionId": "0",
      "userId": ""
     },
     "user_tz": 480
    },
    "id": "IRSyYiIIGIzS",
    "outputId": "3f8996ee-3574-4f44-c953-5c8a04636582"
   },
   "outputs": [
    {
     "name": "stdout",
     "output_type": "stream",
     "text": [
      "Training set (145051, 784) (145051, 10)\n",
      "Validation set (7338, 784) (7338, 10)\n",
      "Test set (6722, 784) (6722, 10)\n"
     ]
    }
   ],
   "source": [
    "image_size = 28\n",
    "num_labels = 10\n",
    "\n",
    "def reformat(dataset, labels):\n",
    "  dataset = dataset.reshape((-1, image_size * image_size)).astype(np.float32)\n",
    "  # Map 1 to [0.0, 1.0, 0.0 ...], 2 to [0.0, 0.0, 1.0 ...]\n",
    "  labels = (np.arange(num_labels) == labels[:,None]).astype(np.float32)\n",
    "  return dataset, labels\n",
    "train_dataset, train_labels = reformat(train_dataset, train_labels)\n",
    "valid_dataset, valid_labels = reformat(valid_dataset, valid_labels)\n",
    "test_dataset, test_labels = reformat(test_dataset, test_labels)\n",
    "print('Training set', train_dataset.shape, train_labels.shape)\n",
    "print('Validation set', valid_dataset.shape, valid_labels.shape)\n",
    "print('Test set', test_dataset.shape, test_labels.shape)"
   ]
  },
  {
   "cell_type": "code",
   "execution_count": 4,
   "metadata": {
    "cellView": "both",
    "colab": {
     "autoexec": {
      "startup": false,
      "wait_interval": 0
     }
    },
    "colab_type": "code",
    "id": "RajPLaL_ZW6w"
   },
   "outputs": [],
   "source": [
    "def accuracy(predictions, labels):\n",
    "  return (100.0 * np.sum(np.argmax(predictions, 1) == np.argmax(labels, 1))\n",
    "          / predictions.shape[0])"
   ]
  },
  {
   "cell_type": "markdown",
   "metadata": {
    "colab_type": "text",
    "id": "sgLbUAQ1CW-1"
   },
   "source": [
    "---\n",
    "Problem 1\n",
    "---------\n",
    "\n",
    "Introduce and tune L2 regularization for both logistic and neural network models. Remember that L2 amounts to adding a penalty on the norm of the weights to the loss. In TensorFlow, you can compute the L2 loss for a tensor `t` using `nn.l2_loss(t)`. The right amount of regularization should improve your validation / test accuracy.\n",
    "\n",
    "---"
   ]
  },
  {
   "cell_type": "code",
   "execution_count": 11,
   "metadata": {},
   "outputs": [],
   "source": [
    "# With gradient descent training, even this much data is prohibitive.\n",
    "# Subset the training data for faster turnaround.\n",
    "train_subset = 100000 # was 100000\n",
    "\n",
    "L2_coef = .01\n",
    "\n",
    "graph = tf.Graph()\n",
    "with graph.as_default():\n",
    "\n",
    "  # Input data.\n",
    "  # Load the training, validation and test data into constants that are\n",
    "  # attached to the graph.\n",
    "  tf_train_dataset = tf.constant(train_dataset[:train_subset, :])\n",
    "  tf_train_labels = tf.constant(train_labels[:train_subset])\n",
    "  tf_valid_dataset = tf.constant(valid_dataset)\n",
    "  tf_test_dataset = tf.constant(test_dataset)\n",
    "  \n",
    "  # Variables.\n",
    "  # These are the parameters that we are going to be training. The weight\n",
    "  # matrix will be initialized using random values following a (truncated)\n",
    "  # normal distribution. The biases get initialized to zero.\n",
    "  weights = tf.Variable(tf.truncated_normal([image_size * image_size, num_labels]))\n",
    "  biases = tf.Variable(tf.zeros([num_labels]))\n",
    "  \n",
    "  # Training computation.\n",
    "  # We multiply the inputs with the weight matrix, and add biases. We compute\n",
    "  # the softmax and cross-entropy (it's one operation in TensorFlow, because\n",
    "  # it's very common, and it can be optimized). We take the average of this\n",
    "  # cross-entropy across all training examples: that's our loss.\n",
    "  logits = tf.matmul(tf_train_dataset, weights) + biases\n",
    "  loss = tf.reduce_mean(\n",
    "    tf.nn.softmax_cross_entropy_with_logits(labels=tf_train_labels, logits=logits))+L2_coef*tf.nn.l2_loss(weights)\n",
    "  \n",
    "  # Optimizer.\n",
    "  # We are going to find the minimum of this loss using gradient descent.\n",
    "  optimizer = tf.train.GradientDescentOptimizer(0.5).minimize(loss)\n",
    "  \n",
    "  # Predictions for the training, validation, and test data.\n",
    "  # These are not part of training, but merely here so that we can report\n",
    "  # accuracy figures as we train.\n",
    "  train_prediction = tf.nn.softmax(logits)\n",
    "  valid_prediction = tf.nn.softmax(\n",
    "    tf.matmul(tf_valid_dataset, weights) + biases)\n",
    "  test_prediction = tf.nn.softmax(tf.matmul(tf_test_dataset, weights) + biases)"
   ]
  },
  {
   "cell_type": "code",
   "execution_count": 12,
   "metadata": {},
   "outputs": [
    {
     "name": "stdout",
     "output_type": "stream",
     "text": [
      "Initialized\n",
      "Loss at step 0: 48.073830\n",
      "Training accuracy: 7.6%\n",
      "Validation accuracy: 10.8%\n",
      "Loss at step 100: 12.043386\n",
      "Training accuracy: 68.3%\n",
      "Validation accuracy: 68.8%\n",
      "Loss at step 200: 4.593434\n",
      "Training accuracy: 73.5%\n",
      "Validation accuracy: 73.7%\n",
      "Loss at step 300: 2.095817\n",
      "Training accuracy: 77.0%\n",
      "Validation accuracy: 76.9%\n",
      "Loss at step 400: 1.260064\n",
      "Training accuracy: 78.7%\n",
      "Validation accuracy: 78.4%\n",
      "Loss at step 500: 0.976689\n",
      "Training accuracy: 79.3%\n",
      "Validation accuracy: 79.0%\n",
      "Loss at step 600: 0.879272\n",
      "Training accuracy: 79.5%\n",
      "Validation accuracy: 79.3%\n",
      "Loss at step 700: 0.845426\n",
      "Training accuracy: 79.5%\n",
      "Validation accuracy: 79.4%\n",
      "Loss at step 800: 0.833567\n",
      "Training accuracy: 79.6%\n",
      "Validation accuracy: 79.4%\n",
      "Test accuracy: 86.4%\n"
     ]
    }
   ],
   "source": [
    "num_steps = 801 #801\n",
    "\n",
    "def accuracy(predictions, labels):\n",
    "  return (100.0 * np.sum(np.argmax(predictions, 1) == np.argmax(labels, 1))\n",
    "          / predictions.shape[0])\n",
    "\n",
    "with tf.Session(graph=graph) as session:\n",
    "  # This is a one-time operation which ensures the parameters get initialized as\n",
    "  # we described in the graph: random weights for the matrix, zeros for the\n",
    "  # biases. \n",
    "  tf.global_variables_initializer().run()\n",
    "  print('Initialized')\n",
    "  for step in range(num_steps):\n",
    "    # Run the computations. We tell .run() that we want to run the optimizer,\n",
    "    # and get the loss value and the training predictions returned as numpy\n",
    "    # arrays.\n",
    "    _, l, predictions = session.run([optimizer, loss, train_prediction])\n",
    "    if (step % 100 == 0):\n",
    "      print('Loss at step %d: %f' % (step, l))\n",
    "      print('Training accuracy: %.1f%%' % accuracy(\n",
    "        predictions, train_labels[:train_subset, :]))\n",
    "      # Calling .eval() on valid_prediction is basically like calling run(), but\n",
    "      # just to get that one numpy array. Note that it recomputes all its graph\n",
    "      # dependencies.\n",
    "      print('Validation accuracy: %.1f%%' % accuracy(\n",
    "        valid_prediction.eval(), valid_labels))\n",
    "  print('Test accuracy: %.1f%%' % accuracy(test_prediction.eval(), test_labels))"
   ]
  },
  {
   "cell_type": "markdown",
   "metadata": {},
   "source": [
    "Now for the neural network"
   ]
  },
  {
   "cell_type": "code",
   "execution_count": 15,
   "metadata": {},
   "outputs": [],
   "source": [
    "batch_size = 128\n",
    "n_hidden = 1024\n",
    "L2_coef = .001\n",
    "\n",
    "graph = tf.Graph()\n",
    "with graph.as_default():\n",
    "\n",
    "  # Input data. For the training data, we use a placeholder that will be fed\n",
    "  # at run time with a training minibatch.\n",
    "  tf_train_dataset = tf.placeholder(tf.float32,shape=(batch_size, image_size * image_size))\n",
    "  tf_train_labels = tf.placeholder(tf.float32, shape=(batch_size, num_labels))\n",
    "  tf_valid_dataset = tf.constant(valid_dataset)\n",
    "  tf_test_dataset = tf.constant(test_dataset)\n",
    "  \n",
    "  # Variables.\n",
    "  weights = tf.Variable(tf.truncated_normal([image_size * image_size, n_hidden]))\n",
    "  biases = tf.Variable(tf.zeros([n_hidden]))\n",
    "    \n",
    "  weights2 = tf.Variable(tf.truncated_normal([n_hidden, num_labels]))\n",
    "  biases2 = tf.Variable(tf.zeros([num_labels]))\n",
    "  \n",
    "    \n",
    "    # Training computation.\n",
    "  relu_layer = tf.nn.relu(tf.matmul(tf_train_dataset,weights)+biases)\n",
    "  logits = tf.matmul(relu_layer, weights2) + biases2\n",
    "\n",
    "  loss = tf.reduce_mean(tf.nn.softmax_cross_entropy_with_logits(labels=tf_train_labels, logits=logits))+L2_coef*tf.nn.l2_loss(weights)+L2_coef*tf.nn.l2_loss(weights2)\n",
    "  \n",
    "  # Optimizer.\n",
    "  optimizer = tf.train.GradientDescentOptimizer(0.5).minimize(loss)\n",
    "  \n",
    "  # Predictions for the training, validation, and test data.\n",
    "  train_prediction = tf.nn.softmax(logits)\n",
    "  relu_layer_valid = tf.nn.relu(tf.matmul(tf_valid_dataset,weights)+biases)\n",
    "  valid_prediction = tf.nn.softmax(tf.matmul(relu_layer_valid, weights2) + biases2)\n",
    "  relu_layer_test = tf.nn.relu(tf.matmul(tf_test_dataset,weights)+biases)\n",
    "  test_prediction = tf.nn.softmax(tf.matmul(relu_layer_test, weights2) + biases2)"
   ]
  },
  {
   "cell_type": "code",
   "execution_count": 16,
   "metadata": {},
   "outputs": [
    {
     "name": "stdout",
     "output_type": "stream",
     "text": [
      "Initialized\n",
      "Minibatch loss at step 0: 670.485046\n",
      "Minibatch accuracy: 3.9%\n",
      "Validation accuracy: 28.6%\n",
      "Minibatch loss at step 500: 197.721786\n",
      "Minibatch accuracy: 72.7%\n",
      "Validation accuracy: 76.0%\n",
      "Minibatch loss at step 1000: 115.200890\n",
      "Minibatch accuracy: 75.0%\n",
      "Validation accuracy: 77.4%\n",
      "Minibatch loss at step 1500: 68.775314\n",
      "Minibatch accuracy: 83.6%\n",
      "Validation accuracy: 78.0%\n",
      "Minibatch loss at step 2000: 41.214401\n",
      "Minibatch accuracy: 86.7%\n",
      "Validation accuracy: 80.8%\n",
      "Minibatch loss at step 2500: 25.032356\n",
      "Minibatch accuracy: 92.2%\n",
      "Validation accuracy: 82.5%\n",
      "Minibatch loss at step 3000: 15.480123\n",
      "Minibatch accuracy: 88.3%\n",
      "Validation accuracy: 82.9%\n",
      "Test accuracy: 90.8%\n"
     ]
    }
   ],
   "source": [
    "num_steps = 3001\n",
    "\n",
    "with tf.Session(graph=graph) as session:\n",
    "  tf.global_variables_initializer().run()\n",
    "  print(\"Initialized\")\n",
    "  for step in range(num_steps):\n",
    "    # Pick an offset within the training data, which has been randomized.\n",
    "    # Note: we could use better randomization across epochs.\n",
    "    offset = (step * batch_size) % (train_labels.shape[0] - batch_size)\n",
    "    # Generate a minibatch.\n",
    "    batch_data = train_dataset[offset:(offset + batch_size), :]\n",
    "    batch_labels = train_labels[offset:(offset + batch_size), :]\n",
    "    # Prepare a dictionary telling the session where to feed the minibatch.\n",
    "    # The key of the dictionary is the placeholder node of the graph to be fed,\n",
    "    # and the value is the numpy array to feed to it.\n",
    "    feed_dict = {tf_train_dataset : batch_data, tf_train_labels : batch_labels}\n",
    "    _, l, predictions = session.run([optimizer, loss, train_prediction], feed_dict=feed_dict)\n",
    "    if (step % 500 == 0):\n",
    "      print(\"Minibatch loss at step %d: %f\" % (step, l))\n",
    "      print(\"Minibatch accuracy: %.1f%%\" % accuracy(predictions, batch_labels))\n",
    "      print(\"Validation accuracy: %.1f%%\" % accuracy(\n",
    "        valid_prediction.eval(), valid_labels))\n",
    "  print(\"Test accuracy: %.1f%%\" % accuracy(test_prediction.eval(), test_labels))"
   ]
  },
  {
   "cell_type": "markdown",
   "metadata": {
    "colab_type": "text",
    "id": "na8xX2yHZzNF"
   },
   "source": [
    "---\n",
    "Problem 2\n",
    "---------\n",
    "Let's demonstrate an extreme case of overfitting. Restrict your training data to just a few batches. What happens?\n",
    "\n",
    "---"
   ]
  },
  {
   "cell_type": "code",
   "execution_count": 28,
   "metadata": {},
   "outputs": [],
   "source": [
    "batch_size = 128\n",
    "n_hidden = 1024\n",
    "L2_coef = 0 #.001\n",
    "\n",
    "graph = tf.Graph()\n",
    "with graph.as_default():\n",
    "\n",
    "  # Input data. For the training data, we use a placeholder that will be fed\n",
    "  # at run time with a training minibatch.\n",
    "  tf_train_dataset = tf.placeholder(tf.float32,shape=(batch_size, image_size * image_size))\n",
    "  tf_train_labels = tf.placeholder(tf.float32, shape=(batch_size, num_labels))\n",
    "  tf_valid_dataset = tf.constant(valid_dataset)\n",
    "  tf_test_dataset = tf.constant(test_dataset)\n",
    "  \n",
    "  # Variables.\n",
    "  weights = tf.Variable(tf.truncated_normal([image_size * image_size, n_hidden]))\n",
    "  biases = tf.Variable(tf.zeros([n_hidden]))\n",
    "    \n",
    "  weights2 = tf.Variable(tf.truncated_normal([n_hidden, num_labels]))\n",
    "  biases2 = tf.Variable(tf.zeros([num_labels]))\n",
    "  \n",
    "    \n",
    "    # Training computation.\n",
    "  relu_layer = tf.nn.relu(tf.matmul(tf_train_dataset,weights)+biases)\n",
    "  logits = tf.matmul(relu_layer, weights2) + biases2\n",
    "\n",
    "  loss = tf.reduce_mean(tf.nn.softmax_cross_entropy_with_logits(labels=tf_train_labels, logits=logits))+L2_coef*tf.nn.l2_loss(weights)+L2_coef*tf.nn.l2_loss(weights2)\n",
    "  \n",
    "  # Optimizer.\n",
    "  optimizer = tf.train.GradientDescentOptimizer(0.5).minimize(loss)\n",
    "  \n",
    "  # Predictions for the training, validation, and test data.\n",
    "  train_prediction = tf.nn.softmax(logits)\n",
    "  relu_layer_valid = tf.nn.relu(tf.matmul(tf_valid_dataset,weights)+biases)\n",
    "  valid_prediction = tf.nn.softmax(tf.matmul(relu_layer_valid, weights2) + biases2)\n",
    "  relu_layer_test = tf.nn.relu(tf.matmul(tf_test_dataset,weights)+biases)\n",
    "  test_prediction = tf.nn.softmax(tf.matmul(relu_layer_test, weights2) + biases2)"
   ]
  },
  {
   "cell_type": "code",
   "execution_count": 29,
   "metadata": {},
   "outputs": [
    {
     "name": "stdout",
     "output_type": "stream",
     "text": [
      "Initialized\n",
      "Minibatch loss at step 0: 387.011841\n",
      "Minibatch accuracy: 13.3%\n",
      "Validation accuracy: 23.5%\n",
      "Minibatch loss at step 500: 0.000000\n",
      "Minibatch accuracy: 100.0%\n",
      "Validation accuracy: 66.2%\n",
      "Minibatch loss at step 1000: 0.000000\n",
      "Minibatch accuracy: 100.0%\n",
      "Validation accuracy: 66.2%\n",
      "Minibatch loss at step 1500: 0.000000\n",
      "Minibatch accuracy: 100.0%\n",
      "Validation accuracy: 66.2%\n",
      "Minibatch loss at step 2000: 0.000000\n",
      "Minibatch accuracy: 100.0%\n",
      "Validation accuracy: 66.2%\n",
      "Minibatch loss at step 2500: 0.000000\n",
      "Minibatch accuracy: 100.0%\n",
      "Validation accuracy: 66.2%\n",
      "Minibatch loss at step 3000: 0.000000\n",
      "Minibatch accuracy: 100.0%\n",
      "Validation accuracy: 66.2%\n",
      "Test accuracy: 72.2%\n"
     ]
    }
   ],
   "source": [
    "num_steps = 3001\n",
    "\n",
    "with tf.Session(graph=graph) as session:\n",
    "  tf.global_variables_initializer().run()\n",
    "  print(\"Initialized\")\n",
    "  for step in range(num_steps):\n",
    "    # Pick an offset within the training data, which has been randomized.\n",
    "    # Note: we could use better randomization across epochs.\n",
    "    ##offset = (step * batch_size) % (train_labels.shape[0] - batch_size)\n",
    "    offset = (step % 2) * batch_size\n",
    "    # Generate a minibatch.\n",
    "    batch_data = train_dataset[offset:(offset + batch_size), :]\n",
    "    batch_labels = train_labels[offset:(offset + batch_size), :]\n",
    "    # Prepare a dictionary telling the session where to feed the minibatch.\n",
    "    # The key of the dictionary is the placeholder node of the graph to be fed,\n",
    "    # and the value is the numpy array to feed to it.\n",
    "    feed_dict = {tf_train_dataset : batch_data, tf_train_labels : batch_labels}\n",
    "    _, l, predictions = session.run([optimizer, loss, train_prediction], feed_dict=feed_dict)\n",
    "    if (step % 500 == 0):\n",
    "      print(\"Minibatch loss at step %d: %f\" % (step, l))\n",
    "      print(\"Minibatch accuracy: %.1f%%\" % accuracy(predictions, batch_labels))\n",
    "      print(\"Validation accuracy: %.1f%%\" % accuracy(\n",
    "        valid_prediction.eval(), valid_labels))\n",
    "  print(\"Test accuracy: %.1f%%\" % accuracy(test_prediction.eval(), test_labels))"
   ]
  },
  {
   "cell_type": "markdown",
   "metadata": {
    "colab_type": "text",
    "id": "ww3SCBUdlkRc"
   },
   "source": [
    "---\n",
    "Problem 3\n",
    "---------\n",
    "Introduce Dropout on the hidden layer of the neural network. Remember: Dropout should only be introduced during training, not evaluation, otherwise your evaluation results would be stochastic as well. TensorFlow provides `nn.dropout()` for that, but you have to make sure it's only inserted during training.\n",
    "\n",
    "What happens to our extreme overfitting case?\n",
    "\n",
    "---"
   ]
  },
  {
   "cell_type": "code",
   "execution_count": 30,
   "metadata": {},
   "outputs": [],
   "source": [
    "batch_size = 128\n",
    "n_hidden = 1024\n",
    "L2_coef = 0 #.001\n",
    "\n",
    "graph = tf.Graph()\n",
    "with graph.as_default():\n",
    "\n",
    "  # Input data. For the training data, we use a placeholder that will be fed\n",
    "  # at run time with a training minibatch.\n",
    "  tf_train_dataset = tf.placeholder(tf.float32,shape=(batch_size, image_size * image_size))\n",
    "  tf_train_labels = tf.placeholder(tf.float32, shape=(batch_size, num_labels))\n",
    "  tf_valid_dataset = tf.constant(valid_dataset)\n",
    "  tf_test_dataset = tf.constant(test_dataset)\n",
    "  \n",
    "  # Variables.\n",
    "  weights = tf.Variable(tf.truncated_normal([image_size * image_size, n_hidden]))\n",
    "  biases = tf.Variable(tf.zeros([n_hidden]))\n",
    "    \n",
    "  weights2 = tf.Variable(tf.truncated_normal([n_hidden, num_labels]))\n",
    "  biases2 = tf.Variable(tf.zeros([num_labels]))\n",
    "  \n",
    "    \n",
    "    # Training computation.\n",
    "  relu_layer_dropout = tf.nn.dropout(2*tf.nn.relu(tf.matmul(tf_train_dataset,weights)+biases),.5)\n",
    "  logits = tf.matmul(relu_layer_dropout, weights2) + biases2\n",
    "\n",
    "  loss = tf.reduce_mean(tf.nn.softmax_cross_entropy_with_logits(labels=tf_train_labels, logits=logits))+L2_coef*tf.nn.l2_loss(weights)+L2_coef*tf.nn.l2_loss(weights2)\n",
    "  \n",
    "  # Optimizer.\n",
    "  optimizer = tf.train.GradientDescentOptimizer(0.5).minimize(loss)\n",
    "  \n",
    "  # Predictions for the training, validation, and test data.\n",
    "    \n",
    "  relu_layer_NO_dropout = tf.nn.relu(tf.matmul(tf_train_dataset,weights)+biases)\n",
    "  logits_NO_droput = tf.matmul(relu_layer_NO_dropout, weights2) + biases2\n",
    "  train_prediction = tf.nn.softmax(logits_NO_droput)\n",
    "  relu_layer_valid = tf.nn.relu(tf.matmul(tf_valid_dataset,weights)+biases)\n",
    "  valid_prediction = tf.nn.softmax(tf.matmul(relu_layer_valid, weights2) + biases2)\n",
    "  relu_layer_test = tf.nn.relu(tf.matmul(tf_test_dataset,weights)+biases)\n",
    "  test_prediction = tf.nn.softmax(tf.matmul(relu_layer_test, weights2) + biases2)"
   ]
  },
  {
   "cell_type": "code",
   "execution_count": 31,
   "metadata": {},
   "outputs": [
    {
     "name": "stdout",
     "output_type": "stream",
     "text": [
      "Initialized\n",
      "Minibatch loss at step 0: 927.082397\n",
      "Minibatch accuracy: 10.2%\n",
      "Validation accuracy: 34.9%\n",
      "Minibatch loss at step 500: 0.000000\n",
      "Minibatch accuracy: 100.0%\n",
      "Validation accuracy: 69.1%\n",
      "Minibatch loss at step 1000: 0.000000\n",
      "Minibatch accuracy: 100.0%\n",
      "Validation accuracy: 69.6%\n",
      "Minibatch loss at step 1500: 0.000000\n",
      "Minibatch accuracy: 100.0%\n",
      "Validation accuracy: 70.1%\n",
      "Minibatch loss at step 2000: 0.000000\n",
      "Minibatch accuracy: 100.0%\n",
      "Validation accuracy: 69.7%\n",
      "Minibatch loss at step 2500: 0.000000\n",
      "Minibatch accuracy: 100.0%\n",
      "Validation accuracy: 70.0%\n",
      "Minibatch loss at step 3000: 0.000000\n",
      "Minibatch accuracy: 100.0%\n",
      "Validation accuracy: 69.6%\n",
      "Test accuracy: 76.7%\n"
     ]
    }
   ],
   "source": [
    "num_steps = 3001\n",
    "\n",
    "with tf.Session(graph=graph) as session:\n",
    "  tf.global_variables_initializer().run()\n",
    "  print(\"Initialized\")\n",
    "  for step in range(num_steps):\n",
    "    # Pick an offset within the training data, which has been randomized.\n",
    "    # Note: we could use better randomization across epochs.\n",
    "    ##offset = (step * batch_size) % (train_labels.shape[0] - batch_size)\n",
    "    offset = (step % 2) * batch_size # this causes overfitting\n",
    "    # Generate a minibatch.\n",
    "    batch_data = train_dataset[offset:(offset + batch_size), :]\n",
    "    batch_labels = train_labels[offset:(offset + batch_size), :]\n",
    "    # Prepare a dictionary telling the session where to feed the minibatch.\n",
    "    # The key of the dictionary is the placeholder node of the graph to be fed,\n",
    "    # and the value is the numpy array to feed to it.\n",
    "    feed_dict = {tf_train_dataset : batch_data, tf_train_labels : batch_labels}\n",
    "    _, l, predictions = session.run([optimizer, loss, train_prediction], feed_dict=feed_dict)\n",
    "    if (step % 500 == 0):\n",
    "      print(\"Minibatch loss at step %d: %f\" % (step, l))\n",
    "      print(\"Minibatch accuracy: %.1f%%\" % accuracy(predictions, batch_labels))\n",
    "      print(\"Validation accuracy: %.1f%%\" % accuracy(\n",
    "        valid_prediction.eval(), valid_labels))\n",
    "  print(\"Test accuracy: %.1f%%\" % accuracy(test_prediction.eval(), test_labels))"
   ]
  },
  {
   "cell_type": "code",
   "execution_count": null,
   "metadata": {},
   "outputs": [],
   "source": []
  },
  {
   "cell_type": "markdown",
   "metadata": {
    "colab_type": "text",
    "id": "-b1hTz3VWZjw"
   },
   "source": [
    "---\n",
    "Problem 4\n",
    "---------\n",
    "\n",
    "Try to get the best performance you can using a multi-layer model! The best reported test accuracy using a deep network is [97.1%](http://yaroslavvb.blogspot.com/2011/09/notmnist-dataset.html?showComment=1391023266211#c8758720086795711595).\n",
    "\n",
    "One avenue you can explore is to add multiple layers.\n",
    "\n",
    "Another one is to use learning rate decay:\n",
    "\n",
    "    global_step = tf.Variable(0)  # count the number of steps taken.\n",
    "    learning_rate = tf.train.exponential_decay(0.5, global_step, ...)\n",
    "    optimizer = tf.train.GradientDescentOptimizer(learning_rate).minimize(loss, global_step=global_step)\n",
    " \n",
    " ---\n"
   ]
  },
  {
   "cell_type": "code",
   "execution_count": 41,
   "metadata": {},
   "outputs": [
    {
     "name": "stdout",
     "output_type": "stream",
     "text": [
      "0.687656021934\n"
     ]
    }
   ],
   "source": [
    "batch_size = 128\n",
    "n_hidden = 1024\n",
    "num_steps = 10001\n",
    "L2_coef = 0.001 #.001\n",
    "init_learn_rate = .1\n",
    "final_learn_rate = 0.005\n",
    "#learning_rate=0.1\n",
    "\n",
    "init_mean = 0\n",
    "standard_dev = .1\n",
    "bias_init = .01\n",
    "\n",
    "steps_per_batch = np.ceil(train_dataset.shape[0]/batch_size)\n",
    "\n",
    "loops_over_data = np.floor(num_steps/steps_per_batch)\n",
    "\n",
    "# init_learn_rate*x**loops_over_data = 0.01\n",
    "# x = (.01/init_learn_rate)**(1/loops_over_data)\n",
    "\n",
    "decay_rate = (final_learn_rate/init_learn_rate)**(1/loops_over_data) # should be about .7 for 10 loops\n",
    "print(decay_rate)\n",
    "\n",
    "graph = tf.Graph()\n",
    "with graph.as_default():\n",
    "\n",
    "  # Input data. For the training data, we use a placeholder that will be fed\n",
    "  # at run time with a training minibatch.\n",
    "  tf_train_dataset = tf.placeholder(tf.float32,shape=(batch_size, image_size * image_size))\n",
    "  tf_train_labels = tf.placeholder(tf.float32, shape=(batch_size, num_labels))\n",
    "  tf_valid_dataset = tf.constant(valid_dataset)\n",
    "  tf_test_dataset = tf.constant(test_dataset)\n",
    "  \n",
    "  # Variables.\n",
    "  weights = tf.Variable(tf.truncated_normal([image_size * image_size, n_hidden],init_mean,standard_dev))\n",
    "  biases = tf.Variable(tf.zeros([n_hidden]))\n",
    "  global_step = tf.Variable(0) \n",
    "  learning_rate = tf.train.exponential_decay(init_learn_rate, global_step, steps_per_batch, decay_rate, staircase=True)\n",
    "    \n",
    "  weights2 = tf.Variable(tf.truncated_normal([n_hidden, num_labels]))\n",
    "  #biases2 = tf.Variable(tf.zeros([num_labels]))\n",
    "  biases2 = tf.Variable(bias_init * tf.ones([num_labels]))\n",
    "\n",
    "  \n",
    "    \n",
    "    # Training computation.\n",
    "  #relu_layer_dropout = tf.nn.dropout(2*tf.nn.relu(tf.matmul(tf_train_dataset,weights)+biases),.5)\n",
    "  relu_layer_dropout = tf.nn.dropout(2*tf.nn.relu(tf.matmul(tf_train_dataset,weights)+biases),.5)\n",
    "  logits = tf.matmul(relu_layer_dropout, weights2) + biases2\n",
    "\n",
    "  loss = tf.reduce_mean(tf.nn.softmax_cross_entropy_with_logits(labels=tf_train_labels, logits=logits))+L2_coef*tf.nn.l2_loss(weights)+L2_coef*tf.nn.l2_loss(weights2)\n",
    "  \n",
    "  # Optimizer.\n",
    "  #optimizer = tf.train.GradientDescentOptimizer(learning_rate).minimize(loss)\n",
    "  optimizer = tf.train.AdagradOptimizer(learning_rate).minimize(loss)\n",
    "  \n",
    "  # Predictions for the training, validation, and test data.\n",
    "    \n",
    "  relu_layer_NO_dropout = tf.nn.relu(tf.matmul(tf_train_dataset,weights)+biases)\n",
    "  logits_NO_droput = tf.matmul(relu_layer_NO_dropout, weights2) + biases2\n",
    "  train_prediction = tf.nn.softmax(logits_NO_droput)\n",
    "  relu_layer_valid = tf.nn.relu(tf.matmul(tf_valid_dataset,weights)+biases)\n",
    "  valid_prediction = tf.nn.softmax(tf.matmul(relu_layer_valid, weights2) + biases2)\n",
    "  relu_layer_test = tf.nn.relu(tf.matmul(tf_test_dataset,weights)+biases)\n",
    "  test_prediction = tf.nn.softmax(tf.matmul(relu_layer_test, weights2) + biases2)"
   ]
  },
  {
   "cell_type": "code",
   "execution_count": 42,
   "metadata": {
    "scrolled": false
   },
   "outputs": [
    {
     "name": "stdout",
     "output_type": "stream",
     "text": [
      "Initialized\n",
      "Minibatch loss at step 0: 106.587257\n",
      "Minibatch accuracy: 3.1%\n",
      "Validation accuracy: 34.0%\n",
      "Minibatch loss at step 500: 26.585846\n",
      "Minibatch accuracy: 78.9%\n",
      "Validation accuracy: 76.6%\n",
      "Minibatch loss at step 1000: 17.141062\n",
      "Minibatch accuracy: 76.6%\n",
      "Validation accuracy: 76.9%\n",
      "Minibatch loss at step 1500: 12.211351\n",
      "Minibatch accuracy: 80.5%\n",
      "Validation accuracy: 77.7%\n",
      "Minibatch loss at step 2000: 7.761628\n",
      "Minibatch accuracy: 78.9%\n",
      "Validation accuracy: 79.3%\n",
      "Minibatch loss at step 2500: 5.915490\n",
      "Minibatch accuracy: 85.9%\n",
      "Validation accuracy: 80.6%\n",
      "Minibatch loss at step 3000: 7.125637\n",
      "Minibatch accuracy: 83.6%\n",
      "Validation accuracy: 80.0%\n",
      "Minibatch loss at step 3500: 6.746795\n",
      "Minibatch accuracy: 84.4%\n",
      "Validation accuracy: 80.2%\n",
      "Minibatch loss at step 4000: 5.755774\n",
      "Minibatch accuracy: 83.6%\n",
      "Validation accuracy: 81.2%\n",
      "Minibatch loss at step 4500: 4.796015\n",
      "Minibatch accuracy: 84.4%\n",
      "Validation accuracy: 81.5%\n",
      "Minibatch loss at step 5000: 4.462362\n",
      "Minibatch accuracy: 83.6%\n",
      "Validation accuracy: 81.6%\n",
      "Minibatch loss at step 5500: 4.719807\n",
      "Minibatch accuracy: 85.9%\n",
      "Validation accuracy: 81.8%\n",
      "Minibatch loss at step 6000: 5.131440\n",
      "Minibatch accuracy: 88.3%\n",
      "Validation accuracy: 82.2%\n",
      "Minibatch loss at step 6500: 3.488197\n",
      "Minibatch accuracy: 82.8%\n",
      "Validation accuracy: 82.6%\n",
      "Minibatch loss at step 7000: 3.597744\n",
      "Minibatch accuracy: 89.1%\n",
      "Validation accuracy: 82.5%\n",
      "Minibatch loss at step 7500: 3.228317\n",
      "Minibatch accuracy: 78.1%\n",
      "Validation accuracy: 82.6%\n",
      "Minibatch loss at step 8000: 3.636796\n",
      "Minibatch accuracy: 82.0%\n",
      "Validation accuracy: 83.0%\n",
      "Minibatch loss at step 8500: 2.697413\n",
      "Minibatch accuracy: 89.1%\n",
      "Validation accuracy: 83.5%\n",
      "Minibatch loss at step 9000: 3.280984\n",
      "Minibatch accuracy: 85.2%\n",
      "Validation accuracy: 83.7%\n",
      "Minibatch loss at step 9500: 2.798259\n",
      "Minibatch accuracy: 85.9%\n",
      "Validation accuracy: 84.1%\n",
      "Minibatch loss at step 10000: 2.632811\n",
      "Minibatch accuracy: 80.5%\n",
      "Validation accuracy: 83.9%\n",
      "Test accuracy: 90.7%\n"
     ]
    }
   ],
   "source": [
    "\n",
    "with tf.Session(graph=graph) as session:\n",
    "  tf.global_variables_initializer().run()\n",
    "  print(\"Initialized\")\n",
    "  for step in range(num_steps):\n",
    "    # Pick an offset within the training data, which has been randomized.\n",
    "    # Note: we could use better randomization across epochs.\n",
    "    offset = (step * batch_size) % (train_labels.shape[0] - batch_size)\n",
    "    ##offset = (step % 2) * batch_size # this causes overfitting\n",
    "    # Generate a minibatch.\n",
    "    batch_data = train_dataset[offset:(offset + batch_size), :]\n",
    "    batch_labels = train_labels[offset:(offset + batch_size), :]\n",
    "    # Prepare a dictionary telling the session where to feed the minibatch.\n",
    "    # The key of the dictionary is the placeholder node of the graph to be fed,\n",
    "    # and the value is the numpy array to feed to it.\n",
    "    feed_dict = {tf_train_dataset : batch_data, tf_train_labels : batch_labels}\n",
    "    _, l, predictions = session.run([optimizer, loss, train_prediction], feed_dict=feed_dict)\n",
    "    if (step % 500 == 0):\n",
    "      print(\"Minibatch loss at step %d: %f\" % (step, l))\n",
    "      print(\"Minibatch accuracy: %.1f%%\" % accuracy(predictions, batch_labels))\n",
    "      print(\"Validation accuracy: %.1f%%\" % accuracy(valid_prediction.eval(), valid_labels))\n",
    "  print(\"Test accuracy: %.1f%%\" % accuracy(test_prediction.eval(), test_labels))"
   ]
  },
  {
   "cell_type": "markdown",
   "metadata": {},
   "source": [
    "add a layer\n"
   ]
  },
  {
   "cell_type": "code",
   "execution_count": 41,
   "metadata": {},
   "outputs": [
    {
     "name": "stdout",
     "output_type": "stream",
     "text": [
      "0.924527663138\n"
     ]
    }
   ],
   "source": [
    "batch_size = 256\n",
    "n_hidden = 700\n",
    "n_hidden2 = 700\n",
    "num_steps = 8001\n",
    "L2_coef = .001\n",
    "init_learn_rate = 0.0015\n",
    "final_learn_rate = 0.0005\n",
    "init_mean = 0.01\n",
    "standard_dev = .1;\n",
    "\n",
    "steps_per_batch = np.ceil(train_dataset.shape[0]/batch_size)\n",
    "\n",
    "loops_over_data = np.floor(num_steps/steps_per_batch)\n",
    "\n",
    "# init_learn_rate*x**loops_over_data = 0.01\n",
    "# x = (.01/init_learn_rate)**(1/loops_over_data)\n",
    "\n",
    "decay_rate = (final_learn_rate/init_learn_rate)**(1/loops_over_data) # should be about .7 for 10 loops\n",
    "print(decay_rate)\n",
    "\n",
    "graph = tf.Graph()\n",
    "with graph.as_default():\n",
    "\n",
    "  # Input data. For the training data, we use a placeholder that will be fed\n",
    "  # at run time with a training minibatch.\n",
    "  tf_train_dataset = tf.placeholder(tf.float32,shape=(batch_size, image_size * image_size))\n",
    "  tf_train_labels = tf.placeholder(tf.float32, shape=(batch_size, num_labels))\n",
    "  tf_valid_dataset = tf.constant(valid_dataset)\n",
    "  tf_test_dataset = tf.constant(test_dataset)\n",
    "  \n",
    "  # Variables.\n",
    "  weights = tf.Variable(tf.truncated_normal([image_size * image_size, n_hidden],init_mean,standard_dev))\n",
    "  biases = tf.Variable(tf.zeros([n_hidden]))\n",
    "\n",
    "  weights1p5 = tf.Variable(tf.truncated_normal([n_hidden, n_hidden2],init_mean,standard_dev))\n",
    "  biases1p5 = tf.Variable(tf.zeros([n_hidden2]))\n",
    "    \n",
    "  weights2 = tf.Variable(tf.truncated_normal([n_hidden2, num_labels],init_mean,standard_dev))\n",
    "  biases2 = tf.Variable(tf.zeros([num_labels]))\n",
    "    \n",
    " \n",
    "  global_step = tf.Variable(0) \n",
    "  learning_rate = tf.train.exponential_decay(init_learn_rate, global_step, steps_per_batch, decay_rate, staircase=True)\n",
    "  \n",
    "    \n",
    "    # Training computation.\n",
    "  relu_layer_dropout = tf.nn.dropout(2*tf.nn.relu(tf.matmul(tf_train_dataset,weights)+biases),.5)\n",
    "  relu_layer_1p5_dropout = tf.nn.dropout(2*tf.nn.relu(tf.matmul(relu_layer_dropout,weights1p5)+biases1p5),.5)\n",
    "  logits = tf.matmul(relu_layer_1p5_dropout, weights2) + biases2\n",
    "\n",
    "  loss = tf.reduce_mean(tf.nn.softmax_cross_entropy_with_logits(labels=tf_train_labels, logits=logits))+L2_coef*tf.nn.l2_loss(weights)+L2_coef*tf.nn.l2_loss(weights2)\n",
    "  \n",
    "  # Optimizer.\n",
    "  optimizer = tf.train.GradientDescentOptimizer(learning_rate).minimize(loss)\n",
    "  \n",
    "  # Predictions for the training, validation, and test data.\n",
    "    \n",
    "  relu_layer_NO_dropout = tf.nn.relu(tf.matmul(tf_train_dataset,weights)+biases)\n",
    "  relu_layer_1p5_NO_dropout = tf.nn.relu(tf.matmul(relu_layer_NO_dropout,weights1p5)+biases1p5)\n",
    "  logits_NO_droput = tf.matmul(relu_layer_1p5_NO_dropout, weights2) + biases2\n",
    "  train_prediction = tf.nn.softmax(logits_NO_droput)\n",
    "    \n",
    "  relu_layer_valid = tf.nn.relu(tf.matmul(tf_valid_dataset,weights)+biases)\n",
    "  relu_layer_1p5_valid = tf.nn.relu(tf.matmul(relu_layer_valid,weights1p5)+biases1p5)\n",
    "  valid_prediction = tf.nn.softmax(tf.matmul(relu_layer_1p5_valid, weights2) + biases2)\n",
    "\n",
    "  relu_layer_test = tf.nn.relu(tf.matmul(tf_test_dataset,weights)+biases)\n",
    "  relu_layer_1p5_test = tf.nn.relu(tf.matmul(relu_layer_test,weights1p5)+biases1p5)\n",
    "  test_prediction = tf.nn.softmax(tf.matmul(relu_layer_1p5_test, weights2) + biases2)"
   ]
  },
  {
   "cell_type": "code",
   "execution_count": 42,
   "metadata": {
    "scrolled": true
   },
   "outputs": [
    {
     "name": "stdout",
     "output_type": "stream",
     "text": [
      "Initialized\n",
      "Minibatch loss at step 0: 55.534565\n",
      "Minibatch accuracy: 8.2%\n",
      "Validation accuracy: 10.7%\n",
      "Minibatch loss at step 500: 13.986145\n",
      "Minibatch accuracy: 73.8%\n",
      "Validation accuracy: 71.1%\n",
      "Minibatch loss at step 1000: 10.591033\n",
      "Minibatch accuracy: 70.3%\n",
      "Validation accuracy: 73.4%\n",
      "Minibatch loss at step 1500: 5.281636\n",
      "Minibatch accuracy: 77.3%\n",
      "Validation accuracy: 74.3%\n",
      "Minibatch loss at step 2000: 5.066291\n",
      "Minibatch accuracy: 76.2%\n",
      "Validation accuracy: 75.5%\n",
      "Minibatch loss at step 2500: 4.006958\n",
      "Minibatch accuracy: 73.4%\n",
      "Validation accuracy: 75.2%\n",
      "Minibatch loss at step 3000: 4.449730\n",
      "Minibatch accuracy: 81.6%\n",
      "Validation accuracy: 75.7%\n",
      "Minibatch loss at step 3500: 3.904053\n",
      "Minibatch accuracy: 70.3%\n",
      "Validation accuracy: 75.5%\n",
      "Minibatch loss at step 4000: 3.638338\n",
      "Minibatch accuracy: 74.2%\n",
      "Validation accuracy: 76.5%\n",
      "Minibatch loss at step 4500: 4.050124\n",
      "Minibatch accuracy: 68.8%\n",
      "Validation accuracy: 75.2%\n",
      "Minibatch loss at step 5000: 3.408622\n",
      "Minibatch accuracy: 76.6%\n",
      "Validation accuracy: 75.7%\n",
      "Minibatch loss at step 5500: 3.482681\n",
      "Minibatch accuracy: 74.2%\n",
      "Validation accuracy: 76.5%\n",
      "Minibatch loss at step 6000: 3.332329\n",
      "Minibatch accuracy: 75.0%\n",
      "Validation accuracy: 77.0%\n",
      "Minibatch loss at step 6500: 3.327368\n",
      "Minibatch accuracy: 73.0%\n",
      "Validation accuracy: 76.4%\n",
      "Minibatch loss at step 7000: 3.394015\n",
      "Minibatch accuracy: 71.9%\n",
      "Validation accuracy: 76.9%\n",
      "Minibatch loss at step 7500: 3.330862\n",
      "Minibatch accuracy: 73.4%\n",
      "Validation accuracy: 76.8%\n",
      "Minibatch loss at step 8000: 3.174310\n",
      "Minibatch accuracy: 78.1%\n",
      "Validation accuracy: 76.2%\n",
      "Test accuracy: 83.4%\n"
     ]
    }
   ],
   "source": [
    "\n",
    "with tf.Session(graph=graph) as session:\n",
    "  tf.global_variables_initializer().run()\n",
    "  print(\"Initialized\")\n",
    "  for step in range(num_steps):\n",
    "    # Pick an offset within the training data, which has been randomized.\n",
    "    # Note: we could use better randomization across epochs.\n",
    "    offset = (step * batch_size) % (train_labels.shape[0] - batch_size)\n",
    "    ##offset = (step % 2) * batch_size # this causes overfitting\n",
    "    # Generate a minibatch.\n",
    "    batch_data = train_dataset[offset:(offset + batch_size), :]\n",
    "    batch_labels = train_labels[offset:(offset + batch_size), :]\n",
    "    # Prepare a dictionary telling the session where to feed the minibatch.\n",
    "    # The key of the dictionary is the placeholder node of the graph to be fed,\n",
    "    # and the value is the numpy array to feed to it.\n",
    "    feed_dict = {tf_train_dataset : batch_data, tf_train_labels : batch_labels}\n",
    "    _, l, predictions = session.run([optimizer, loss, train_prediction], feed_dict=feed_dict)\n",
    "    if (step % 500 == 0):\n",
    "      print(\"Minibatch loss at step %d: %f\" % (step, l))\n",
    "      print(\"Minibatch accuracy: %.1f%%\" % accuracy(predictions, batch_labels))\n",
    "      print(\"Validation accuracy: %.1f%%\" % accuracy(\n",
    "        valid_prediction.eval(), valid_labels))\n",
    "  print(\"Test accuracy: %.1f%%\" % accuracy(test_prediction.eval(), test_labels))"
   ]
  },
  {
   "cell_type": "code",
   "execution_count": null,
   "metadata": {},
   "outputs": [],
   "source": []
  },
  {
   "cell_type": "code",
   "execution_count": null,
   "metadata": {},
   "outputs": [],
   "source": []
  }
 ],
 "metadata": {
  "colab": {
   "default_view": {},
   "name": "3_regularization.ipynb",
   "provenance": [],
   "version": "0.3.2",
   "views": {}
  },
  "kernelspec": {
   "display_name": "Python 3",
   "language": "python",
   "name": "python3"
  },
  "language_info": {
   "codemirror_mode": {
    "name": "ipython",
    "version": 3
   },
   "file_extension": ".py",
   "mimetype": "text/x-python",
   "name": "python",
   "nbconvert_exporter": "python",
   "pygments_lexer": "ipython3",
   "version": "3.5.4"
  }
 },
 "nbformat": 4,
 "nbformat_minor": 1
}
