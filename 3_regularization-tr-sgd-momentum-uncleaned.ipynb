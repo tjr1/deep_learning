{
 "cells": [
  {
   "cell_type": "markdown",
   "metadata": {
    "colab_type": "text",
    "id": "kR-4eNdK6lYS"
   },
   "source": [
    "Deep Learning\n",
    "=============\n",
    "\n",
    "Assignment 3\n",
    "------------\n",
    "\n",
    "Previously in `2_fullyconnected.ipynb`, you trained a logistic regression and a neural network model.\n",
    "\n",
    "The goal of this assignment is to explore regularization techniques."
   ]
  },
  {
   "cell_type": "code",
   "execution_count": 1,
   "metadata": {
    "cellView": "both",
    "colab": {
     "autoexec": {
      "startup": false,
      "wait_interval": 0
     }
    },
    "colab_type": "code",
    "id": "JLpLa8Jt7Vu4"
   },
   "outputs": [],
   "source": [
    "# These are all the modules we'll be using later. Make sure you can import them\n",
    "# before proceeding further.\n",
    "from __future__ import print_function\n",
    "import numpy as np\n",
    "import tensorflow as tf\n",
    "import timeit\n",
    "from six.moves import cPickle as pickle"
   ]
  },
  {
   "cell_type": "markdown",
   "metadata": {
    "colab_type": "text",
    "id": "1HrCK6e17WzV"
   },
   "source": [
    "First reload the data we generated in `1_notmnist.ipynb`."
   ]
  },
  {
   "cell_type": "markdown",
   "metadata": {
    "cellView": "both",
    "colab": {
     "autoexec": {
      "startup": false,
      "wait_interval": 0
     },
     "output_extras": [
      {
       "item_id": 1
      }
     ]
    },
    "colab_type": "code",
    "collapsed": true,
    "executionInfo": {
     "elapsed": 11777,
     "status": "ok",
     "timestamp": 1449849322348,
     "user": {
      "color": "",
      "displayName": "",
      "isAnonymous": false,
      "isMe": true,
      "permissionId": "",
      "photoUrl": "",
      "sessionId": "0",
      "userId": ""
     },
     "user_tz": 480
    },
    "id": "y3-cj1bpmuxc",
    "outputId": "e03576f1-ebbe-4838-c388-f1777bcc9873"
   },
   "source": [
    "# uncleaned train, valid and test sets\n",
    "pickle_file = 'notMNIST.pickle'\n",
    "\n",
    "with open(pickle_file, 'rb') as f:\n",
    "  save = pickle.load(f)\n",
    "  train_dataset = save['train_dataset']\n",
    "  train_labels = save['train_labels']\n",
    "  valid_dataset = save['valid_dataset']\n",
    "  valid_labels = save['valid_labels']\n",
    "  test_dataset = save['test_dataset']\n",
    "  test_labels = save['test_labels']\n",
    "  del save  # hint to help gc free up memory\n",
    "  print('Training set', train_dataset.shape, train_labels.shape)\n",
    "  print('Validation set', valid_dataset.shape, valid_labels.shape)\n",
    "  print('Test set', test_dataset.shape, test_labels.shape)"
   ]
  },
  {
   "cell_type": "markdown",
   "metadata": {},
   "source": [
    "# cleaned train, valid and test sets\n",
    "pickle_file = 'notMNIST_c.pickle'\n",
    "\n",
    "with open(pickle_file, 'rb') as f:\n",
    "  save = pickle.load(f)\n",
    "  train_dataset = save['train_dataset_c']\n",
    "  train_labels = save['train_labels_c']\n",
    "  valid_dataset = save['valid_dataset_c']\n",
    "  valid_labels = save['valid_labels_c']\n",
    "  test_dataset = save['test_dataset_c']\n",
    "  test_labels = save['test_labels_c']\n",
    "  del save  # hint to help gc free up memory\n",
    "  print('Training set', train_dataset.shape, train_labels.shape)\n",
    "  print('Validation set', valid_dataset.shape, valid_labels.shape)\n",
    "  print('Test set', test_dataset.shape, test_labels.shape)"
   ]
  },
  {
   "cell_type": "code",
   "execution_count": 2,
   "metadata": {
    "cellView": "both",
    "colab": {
     "autoexec": {
      "startup": false,
      "wait_interval": 0
     },
     "output_extras": [
      {
       "item_id": 1
      }
     ]
    },
    "colab_type": "code",
    "executionInfo": {
     "elapsed": 11777,
     "status": "ok",
     "timestamp": 1449849322348,
     "user": {
      "color": "",
      "displayName": "",
      "isAnonymous": false,
      "isMe": true,
      "permissionId": "",
      "photoUrl": "",
      "sessionId": "0",
      "userId": ""
     },
     "user_tz": 480
    },
    "id": "y3-cj1bpmuxc",
    "outputId": "e03576f1-ebbe-4838-c388-f1777bcc9873"
   },
   "outputs": [
    {
     "name": "stdout",
     "output_type": "stream",
     "text": [
      "Training set (145051, 28, 28) (145051,)\n",
      "Validation set (10000, 28, 28) (10000,)\n",
      "Test set (10000, 28, 28) (10000,)\n"
     ]
    }
   ],
   "source": [
    "# cleaned training, unclean valid and test\n",
    "pickle_file1 = 'notMNIST_c.pickle'\n",
    "\n",
    "with open(pickle_file1, 'rb') as f1:\n",
    "  save = pickle.load(f1)\n",
    "  train_dataset = save['train_dataset_c']\n",
    "  train_labels = save['train_labels_c']\n",
    "  del save\n",
    "  \n",
    "\n",
    "pickle_file2 = 'notMNIST.pickle'\n",
    "\n",
    "with open(pickle_file2, 'rb') as f2:\n",
    "  save = pickle.load(f2)\n",
    "  valid_dataset = save['valid_dataset']\n",
    "  valid_labels = save['valid_labels']\n",
    "  test_dataset = save['test_dataset']\n",
    "  test_labels = save['test_labels']\n",
    "  del save  # hint to help gc free up memory\n",
    "    \n",
    "print('Training set', train_dataset.shape, train_labels.shape)\n",
    "print('Validation set', valid_dataset.shape, valid_labels.shape)\n",
    "print('Test set', test_dataset.shape, test_labels.shape)"
   ]
  },
  {
   "cell_type": "raw",
   "metadata": {},
   "source": []
  },
  {
   "cell_type": "markdown",
   "metadata": {
    "colab_type": "text",
    "id": "L7aHrm6nGDMB"
   },
   "source": [
    "Reformat into a shape that's more adapted to the models we're going to train:\n",
    "- data as a flat matrix,\n",
    "- labels as float 1-hot encodings."
   ]
  },
  {
   "cell_type": "code",
   "execution_count": 3,
   "metadata": {
    "cellView": "both",
    "colab": {
     "autoexec": {
      "startup": false,
      "wait_interval": 0
     },
     "output_extras": [
      {
       "item_id": 1
      }
     ]
    },
    "colab_type": "code",
    "executionInfo": {
     "elapsed": 11728,
     "status": "ok",
     "timestamp": 1449849322356,
     "user": {
      "color": "",
      "displayName": "",
      "isAnonymous": false,
      "isMe": true,
      "permissionId": "",
      "photoUrl": "",
      "sessionId": "0",
      "userId": ""
     },
     "user_tz": 480
    },
    "id": "IRSyYiIIGIzS",
    "outputId": "3f8996ee-3574-4f44-c953-5c8a04636582"
   },
   "outputs": [
    {
     "name": "stdout",
     "output_type": "stream",
     "text": [
      "Training set (145051, 784) (145051, 10)\n",
      "Validation set (10000, 784) (10000, 10)\n",
      "Test set (10000, 784) (10000, 10)\n"
     ]
    }
   ],
   "source": [
    "image_size = 28\n",
    "num_labels = 10\n",
    "\n",
    "def reformat(dataset, labels):\n",
    "  dataset = dataset.reshape((-1, image_size * image_size)).astype(np.float32)\n",
    "  # Map 1 to [0.0, 1.0, 0.0 ...], 2 to [0.0, 0.0, 1.0 ...]\n",
    "  labels = (np.arange(num_labels) == labels[:,None]).astype(np.float32)\n",
    "  return dataset, labels\n",
    "train_dataset, train_labels = reformat(train_dataset, train_labels)\n",
    "valid_dataset, valid_labels = reformat(valid_dataset, valid_labels)\n",
    "test_dataset, test_labels = reformat(test_dataset, test_labels)\n",
    "print('Training set', train_dataset.shape, train_labels.shape)\n",
    "print('Validation set', valid_dataset.shape, valid_labels.shape)\n",
    "print('Test set', test_dataset.shape, test_labels.shape)"
   ]
  },
  {
   "cell_type": "code",
   "execution_count": 4,
   "metadata": {
    "cellView": "both",
    "colab": {
     "autoexec": {
      "startup": false,
      "wait_interval": 0
     }
    },
    "colab_type": "code",
    "id": "RajPLaL_ZW6w"
   },
   "outputs": [],
   "source": [
    "def accuracy(predictions, labels):\n",
    "  return (100.0 * np.sum(np.argmax(predictions, 1) == np.argmax(labels, 1))\n",
    "          / predictions.shape[0])"
   ]
  },
  {
   "cell_type": "markdown",
   "metadata": {
    "colab_type": "text",
    "id": "-b1hTz3VWZjw"
   },
   "source": [
    "---\n",
    "Problem 4\n",
    "---------\n",
    "\n",
    "Try to get the best performance you can using a multi-layer model! The best reported test accuracy using a deep network is [97.1%](http://yaroslavvb.blogspot.com/2011/09/notmnist-dataset.html?showComment=1391023266211#c8758720086795711595).\n",
    "\n",
    "One avenue you can explore is to add multiple layers.\n",
    "\n",
    "Another one is to use learning rate decay:\n",
    "\n",
    "    global_step = tf.Variable(0)  # count the number of steps taken.\n",
    "    learning_rate = tf.train.exponential_decay(0.5, global_step, ...)\n",
    "    optimizer = tf.train.GradientDescentOptimizer(learning_rate).minimize(loss, global_step=global_step)\n",
    " \n",
    " ---\n"
   ]
  },
  {
   "cell_type": "code",
   "execution_count": 5,
   "metadata": {},
   "outputs": [
    {
     "name": "stdout",
     "output_type": "stream",
     "text": [
      "0.976799398731\n"
     ]
    }
   ],
   "source": [
    "# meta parameters\n",
    "batch_size = 4096 #128\n",
    "n_hidden = 1024 #1024\n",
    "num_steps = 10001 #40001\n",
    "L2_coef = 0.001 #0.001\n",
    "init_learn_rate = 0.1 #0.1\n",
    "final_learn_rate = 0.00015 #0.00015\n",
    "momentum = .25 #0.25\n",
    "\n",
    "init_mean = 0 # 0\n",
    "standard_dev = .1 # .1\n",
    "bias_init = .2 #.01\n",
    "\n",
    "# calc learning rate decay\n",
    "\n",
    "steps_per_batch = np.ceil(train_dataset.shape[0]/batch_size)\n",
    "loops_over_data = np.floor(num_steps/steps_per_batch)\n",
    "\n",
    "# init_learn_rate*x**loops_over_data = 0.01\n",
    "# x = (.01/init_learn_rate)**(1/loops_over_data)\n",
    "\n",
    "decay_rate = (final_learn_rate/init_learn_rate)**(1/loops_over_data) # decay rate after every loop through data, should be about .7 for 10 loops\n",
    "print(decay_rate)\n",
    "\n",
    "# create graph\n",
    "\n",
    "graph = tf.Graph()\n",
    "with graph.as_default():\n",
    "\n",
    "  # Input data. For the training data, we use a placeholder that will be fed\n",
    "  # at run time with a training minibatch.\n",
    "  tf_train_dataset = tf.placeholder(tf.float32,shape=(batch_size, image_size * image_size))\n",
    "  tf_train_labels = tf.placeholder(tf.float32, shape=(batch_size, num_labels))\n",
    "  tf_valid_dataset = tf.constant(valid_dataset)\n",
    "  tf_test_dataset = tf.constant(test_dataset)\n",
    "  \n",
    "  # Variables.\n",
    "  weights = tf.Variable(tf.truncated_normal([image_size * image_size, n_hidden],init_mean,standard_dev))\n",
    "  biases = tf.Variable(tf.zeros([n_hidden]))\n",
    "  global_step = tf.Variable(0) \n",
    "  learning_rate = tf.train.exponential_decay(init_learn_rate, global_step, steps_per_batch, decay_rate, staircase=True)\n",
    "    \n",
    "  weights2 = tf.Variable(tf.truncated_normal([n_hidden, num_labels]))\n",
    "  #biases2 = tf.Variable(tf.zeros([num_labels]))\n",
    "  biases2 = tf.Variable(bias_init * tf.ones([num_labels]))\n",
    "\n",
    "  \n",
    "    \n",
    "    # Training computation.\n",
    "  #relu_layer_dropout = tf.nn.dropout(2*tf.nn.relu(tf.matmul(tf_train_dataset,weights)+biases),.5)\n",
    "  relu_layer_dropout = tf.nn.dropout(2*tf.nn.relu(tf.matmul(tf_train_dataset,weights)+biases),.5)\n",
    "  logits = tf.matmul(relu_layer_dropout, weights2) + biases2\n",
    "\n",
    "  loss = tf.reduce_mean(tf.nn.softmax_cross_entropy_with_logits(labels=tf_train_labels, logits=logits))+L2_coef*tf.nn.l2_loss(weights)+L2_coef*tf.nn.l2_loss(weights2)\n",
    "  \n",
    "  # Optimizer.\n",
    "  #optimizer = tf.train.GradientDescentOptimizer(learning_rate).minimize(loss)\n",
    "  #optimizer = tf.train.AdagradOptimizer(learning_rate).minimize(loss)\n",
    "  optimizer = tf.train.MomentumOptimizer(learning_rate, momentum).minimize(loss)\n",
    "  \n",
    "  # Predictions for the training, validation, and test data.\n",
    "    \n",
    "  relu_layer_NO_dropout = tf.nn.relu(tf.matmul(tf_train_dataset,weights)+biases)\n",
    "  logits_NO_droput = tf.matmul(relu_layer_NO_dropout, weights2) + biases2\n",
    "  train_prediction = tf.nn.softmax(logits_NO_droput)\n",
    "  relu_layer_valid = tf.nn.relu(tf.matmul(tf_valid_dataset,weights)+biases)\n",
    "  valid_prediction = tf.nn.softmax(tf.matmul(relu_layer_valid, weights2) + biases2)\n",
    "  relu_layer_test = tf.nn.relu(tf.matmul(tf_test_dataset,weights)+biases)\n",
    "  test_prediction = tf.nn.softmax(tf.matmul(relu_layer_test, weights2) + biases2)"
   ]
  },
  {
   "cell_type": "code",
   "execution_count": 6,
   "metadata": {},
   "outputs": [
    {
     "name": "stdout",
     "output_type": "stream",
     "text": [
      "Initialized\n",
      "Minibatch loss at step 0: 106.982796\n",
      "Minibatch accuracy: 10.8%\n",
      "Validation accuracy: 49.4%\n",
      "Minibatch loss at step 500: 7.479926\n",
      "Minibatch accuracy: 84.2%\n",
      "Validation accuracy: 85.0%\n",
      "Minibatch loss at step 1000: 5.785932\n",
      "Minibatch accuracy: 88.9%\n",
      "Validation accuracy: 85.9%\n",
      "Minibatch loss at step 1500: 4.843486\n",
      "Minibatch accuracy: 91.1%\n",
      "Validation accuracy: 86.8%\n",
      "Minibatch loss at step 2000: 4.164562\n",
      "Minibatch accuracy: 92.7%\n",
      "Validation accuracy: 87.2%\n",
      "Minibatch loss at step 2500: 3.648344\n",
      "Minibatch accuracy: 93.3%\n",
      "Validation accuracy: 87.8%\n",
      "Minibatch loss at step 3000: 3.174042\n",
      "Minibatch accuracy: 94.3%\n",
      "Validation accuracy: 88.1%\n",
      "Minibatch loss at step 3500: 2.799952\n",
      "Minibatch accuracy: 94.8%\n",
      "Validation accuracy: 88.2%\n",
      "Minibatch loss at step 4000: 2.495526\n",
      "Minibatch accuracy: 94.7%\n",
      "Validation accuracy: 88.4%\n",
      "Minibatch loss at step 4500: 2.211133\n",
      "Minibatch accuracy: 95.4%\n",
      "Validation accuracy: 88.6%\n",
      "Minibatch loss at step 5000: 1.971824\n",
      "Minibatch accuracy: 95.5%\n",
      "Validation accuracy: 88.8%\n",
      "Minibatch loss at step 5500: 1.754853\n",
      "Minibatch accuracy: 95.8%\n",
      "Validation accuracy: 89.0%\n",
      "Minibatch loss at step 6000: 1.580962\n",
      "Minibatch accuracy: 96.0%\n",
      "Validation accuracy: 89.3%\n",
      "Minibatch loss at step 6500: 1.432052\n",
      "Minibatch accuracy: 95.6%\n",
      "Validation accuracy: 89.4%\n",
      "Minibatch loss at step 7000: 1.296721\n",
      "Minibatch accuracy: 95.7%\n",
      "Validation accuracy: 89.5%\n",
      "Minibatch loss at step 7500: 1.172085\n",
      "Minibatch accuracy: 96.2%\n",
      "Validation accuracy: 89.6%\n",
      "Minibatch loss at step 8000: 1.065266\n",
      "Minibatch accuracy: 96.4%\n",
      "Validation accuracy: 89.7%\n",
      "Minibatch loss at step 8500: 1.059054\n",
      "Minibatch accuracy: 93.6%\n",
      "Validation accuracy: 89.8%\n",
      "Minibatch loss at step 9000: 0.923680\n",
      "Minibatch accuracy: 95.7%\n",
      "Validation accuracy: 90.0%\n",
      "Minibatch loss at step 9500: 0.838874\n",
      "Minibatch accuracy: 96.2%\n",
      "Validation accuracy: 90.0%\n",
      "Minibatch loss at step 10000: 0.787215\n",
      "Minibatch accuracy: 96.5%\n",
      "Validation accuracy: 90.0%\n",
      "Test accuracy: 95.6%\n",
      "Elapsed time: 96 seconds\n"
     ]
    }
   ],
   "source": [
    "start_time = timeit.default_timer()\n",
    "\n",
    "with tf.Session(graph=graph) as session:\n",
    "  tf.global_variables_initializer().run()\n",
    "  print(\"Initialized\")\n",
    "  for step in range(num_steps):\n",
    "    # Pick an offset within the training data, which has been randomized.\n",
    "    # Note: we could use better randomization across epochs.\n",
    "    offset = (step * batch_size) % (train_labels.shape[0] - batch_size)\n",
    "    ##offset = (step % 2) * batch_size # this causes overfitting\n",
    "    # Generate a minibatch.\n",
    "    batch_data = train_dataset[offset:(offset + batch_size), :]\n",
    "    batch_labels = train_labels[offset:(offset + batch_size), :]\n",
    "    # Prepare a dictionary telling the session where to feed the minibatch.\n",
    "    # The key of the dictionary is the placeholder node of the graph to be fed,\n",
    "    # and the value is the numpy array to feed to it.\n",
    "    feed_dict = {tf_train_dataset : batch_data, tf_train_labels : batch_labels}\n",
    "    _, l, predictions = session.run([optimizer, loss, train_prediction], feed_dict=feed_dict)\n",
    "    if (step % 500 == 0):\n",
    "      print(\"Minibatch loss at step %d: %f\" % (step, l))\n",
    "      print(\"Minibatch accuracy: %.1f%%\" % accuracy(predictions, batch_labels))\n",
    "      print(\"Validation accuracy: %.1f%%\" % accuracy(valid_prediction.eval(), valid_labels))\n",
    "  print(\"Test accuracy: %.1f%%\" % accuracy(test_prediction.eval(), test_labels))\n",
    "\n",
    "elapsed = timeit.default_timer() - start_time\n",
    "print(\"Elapsed time: %.0f seconds\" % elapsed)"
   ]
  },
  {
   "cell_type": "code",
   "execution_count": null,
   "metadata": {},
   "outputs": [],
   "source": []
  }
 ],
 "metadata": {
  "colab": {
   "default_view": {},
   "name": "3_regularization.ipynb",
   "provenance": [],
   "version": "0.3.2",
   "views": {}
  },
  "kernelspec": {
   "display_name": "Python 3",
   "language": "python",
   "name": "python3"
  },
  "language_info": {
   "codemirror_mode": {
    "name": "ipython",
    "version": 3
   },
   "file_extension": ".py",
   "mimetype": "text/x-python",
   "name": "python",
   "nbconvert_exporter": "python",
   "pygments_lexer": "ipython3",
   "version": "3.5.4"
  }
 },
 "nbformat": 4,
 "nbformat_minor": 1
}
